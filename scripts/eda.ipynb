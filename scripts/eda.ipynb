{
 "cells": [
  {
   "cell_type": "code",
   "execution_count": null,
   "metadata": {},
   "outputs": [],
   "source": [
    "import matplotlib.pyplot as plt\n",
    "import polars as pl\n",
    "import requests_cache\n",
    "from matplotlib.transforms import Bbox\n",
    "\n",
    "from moonbox import now, get_oneday, parse_oneday, draw_moon"
   ]
  },
  {
   "cell_type": "code",
   "execution_count": null,
   "metadata": {},
   "outputs": [],
   "source": [
    "session = requests_cache.CachedSession(\"cache\")\n",
    "\n",
    "year = now().year\n",
    "\n",
    "dates = (\n",
    "    pl.select(pl.date_range(pl.date(year, 1, 1), pl.date(year, 12, 31)))\n",
    "    .to_series()\n",
    "    .to_list()\n",
    ")\n",
    "\n",
    "data = [\n",
    "    {\"date\": date} | parse_oneday(get_oneday(date.isoformat(), session=session))\n",
    "    for date in dates\n",
    "]"
   ]
  },
  {
   "cell_type": "code",
   "execution_count": null,
   "metadata": {},
   "outputs": [],
   "source": [
    "def chunk(lst, pred, min_len=2):\n",
    "    out = []\n",
    "    chunk = None\n",
    "    for elt in lst:\n",
    "        if chunk is None:\n",
    "            if pred(elt):\n",
    "                chunk = [elt]\n",
    "            else:\n",
    "                pass\n",
    "        elif pred(elt) and len(chunk) + 1 > min_len:\n",
    "            out.append(chunk)\n",
    "            chunk = [elt]\n",
    "        else:\n",
    "            chunk.append(elt)\n",
    "\n",
    "    return out"
   ]
  },
  {
   "cell_type": "code",
   "execution_count": null,
   "metadata": {},
   "outputs": [],
   "source": [
    "# group into lunar months\n",
    "lunar_months = chunk(data, lambda x: x[\"phase\"] == \"New Moon\")\n",
    "\n",
    "n_months = len(lunar_months)\n",
    "longest_month = max([len(x) for x in lunar_months])\n",
    "\n",
    "scale = 1.0\n",
    "fig, axs = plt.subplots(\n",
    "    n_months,\n",
    "    longest_month,\n",
    "    figsize=(scale * longest_month, scale * n_months),\n",
    "    layout=\"compressed\",\n",
    ")\n",
    "\n",
    "# set everything to not visible, to deal with ragged rows\n",
    "for row in range(n_months):\n",
    "    for col in range(longest_month):\n",
    "        axs[row, col].set_visible(False)\n",
    "\n",
    "solar_month = None\n",
    "\n",
    "for row, month in enumerate(lunar_months):\n",
    "    for col, datum in enumerate(month):\n",
    "        if col == 0 or datum[\"date\"].month != solar_month:\n",
    "            label = datum[\"date\"].strftime(\"%b %-d\")\n",
    "            solar_month = datum[\"date\"].month\n",
    "        else:\n",
    "            label = datum[\"date\"].strftime(\"%-d\")\n",
    "\n",
    "        f = datum[\"illumination\"] / 100\n",
    "        direction = datum[\"phase\"].split()[0].lower()\n",
    "\n",
    "        ax = axs[row, col]\n",
    "        ax.set_visible(True)\n",
    "        draw_moon(ax, f=f, direction=direction, dark=\"0.2\")\n",
    "        ax.text(\n",
    "            0.875,  # x-position of end of text\n",
    "            1.0,  # y-position of top of text\n",
    "            label,\n",
    "            horizontalalignment=\"right\",\n",
    "            verticalalignment=\"bottom\",\n",
    "            transform=ax.transAxes,\n",
    "            color=\"white\",\n",
    "        )\n",
    "\n",
    "fig.suptitle(f\"{year} Lunar Calendar\", fontsize=60, color=\"white\")\n",
    "fig.set_facecolor(\"black\")"
   ]
  },
  {
   "cell_type": "code",
   "execution_count": null,
   "metadata": {},
   "outputs": [],
   "source": [
    "# use this code to see how big the figure is, and then trim (or expand) to some other size\n",
    "\n",
    "h0 = fig.get_figheight()\n",
    "w0 = fig.get_figwidth()\n",
    "\n",
    "x = 1.5\n",
    "h = 20.0 - 2.0 * x\n",
    "w = 30.0 - 3.0 * x\n",
    "\n",
    "print(f\"w0={w0} h0={h0}\")\n",
    "print(f\"w={w} h={h}\")\n",
    "\n",
    "dw = (w0 - w) / 2\n",
    "dh = (h0 - h) / 2\n",
    "\n",
    "bb = Bbox([[dw, dh], [w0 - dw, h0 - dh]])\n",
    "fig.savefig(\"../output/lunar_calendar_trimmed.png\", bbox_inches=bb, dpi=300)\n",
    "fig.savefig(\"../output/lunar_calendar_trimmed.pdf\", bbox_inches=bb)"
   ]
  }
 ],
 "metadata": {
  "kernelspec": {
   "display_name": "Python 3",
   "language": "python",
   "name": "python3"
  },
  "language_info": {
   "codemirror_mode": {
    "name": "ipython",
    "version": 3
   },
   "file_extension": ".py",
   "mimetype": "text/x-python",
   "name": "python",
   "nbconvert_exporter": "python",
   "pygments_lexer": "ipython3",
   "version": "3.12.0"
  }
 },
 "nbformat": 4,
 "nbformat_minor": 2
}
