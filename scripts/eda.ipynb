{
 "cells": [
  {
   "cell_type": "code",
   "execution_count": null,
   "metadata": {},
   "outputs": [],
   "source": [
    "from moonbox import *"
   ]
  },
  {
   "cell_type": "code",
   "execution_count": null,
   "metadata": {},
   "outputs": [],
   "source": [
    "ods = [parse_oneday(get_oneday(date=f\"2024-03-{x}\")) for x in range(1, 5)]\n",
    "ods"
   ]
  },
  {
   "cell_type": "code",
   "execution_count": null,
   "metadata": {},
   "outputs": [],
   "source": [
    "# total area: pi*R^2\n",
    "# foreground: 0.5*pi*R^2 + 0.5*pi*R*r = 0.5*pi*R^2*(1+r/R)\n",
    "# f = 0.5*(1+r/R)\n",
    "# R*(2*f-1)=r\n",
    "\n",
    "import matplotlib.pyplot as plt\n",
    "import matplotlib as mpl\n",
    "import matplotlib.patches as mpatches\n",
    "\n",
    "def draw_moon(axes, f, direction):\n",
    "    center = (0, 0)\n",
    "    radius = 0.9\n",
    "\n",
    "    axes.set(aspect=1, xlim=(-1.0, 1.0), ylim=(-1.0, 1.0))\n",
    "    axes.set_axis_off()\n",
    "\n",
    "    if f == 0.0:\n",
    "        back_color = \"black\"\n",
    "        half_side = None\n",
    "        half_color = None\n",
    "        ellipse_color = None\n",
    "    elif direction == \"waxing\" and 0.0 < f < 0.5:\n",
    "        back_color = \"white\"\n",
    "        half_side = \"left\"\n",
    "        half_color = \"black\"\n",
    "        ellipse_color = \"black\"\n",
    "    elif direction in [\"waxing\", \"first\"] and f == 0.5:\n",
    "        back_color = \"white\"\n",
    "        half_side = \"left\"\n",
    "        half_color = \"black\"\n",
    "        ellipse_color = None\n",
    "    elif direction == \"waxing\" and 0.5 < f < 1.0:\n",
    "        back_color = \"black\"\n",
    "        half_side = \"right\"\n",
    "        half_color = \"white\"\n",
    "        ellipse_color = \"white\"\n",
    "    elif f == 1.0:\n",
    "        back_color = \"white\"\n",
    "        half_side = None\n",
    "        half_color = None\n",
    "        ellipse_color = None\n",
    "    elif direction == \"waning\" and 0.5 < f < 1.0:\n",
    "        back_color = \"black\"\n",
    "        half_side = \"left\"\n",
    "        half_color = \"white\"\n",
    "        ellipse_color = \"white\"\n",
    "    elif direction in [\"waning\", \"third\"] and f == 0.5:\n",
    "        back_color = \"black\"\n",
    "        half_side = \"left\"\n",
    "        half_color = \"white\"\n",
    "        ellipse_color = None\n",
    "    elif direction == \"waning\" and 0.0 < f < 0.5:\n",
    "        back_color = \"white\"\n",
    "        half_side = \"right\"\n",
    "        half_color = \"black\"\n",
    "        ellipse_color = \"black\"\n",
    "    else:\n",
    "        raise RuntimeError(f\"bad values: f={f} direction={direction}\")\n",
    "\n",
    "    back = mpatches.Circle(center, radius, ec=\"none\")\n",
    "    back.set(color=back_color)\n",
    "    axes.add_artist(back)\n",
    "\n",
    "    if half_side == \"left\":\n",
    "        half = mpatches.Wedge(center, radius, 90, 270, ec=\"none\")\n",
    "        half.set(color=half_color)\n",
    "        axes.add_artist(half)\n",
    "    elif half_side == \"right\":\n",
    "        half = mpatches.Wedge(center, radius, 270, 90, ec=\"none\")\n",
    "        half.set(color=half_color)\n",
    "        axes.add_artist(half)\n",
    "\n",
    "    if ellipse_color is not None:\n",
    "        artist = mpatches.Ellipse(center, 2*radius * (2*f-1), 2*radius)\n",
    "        artist.set(color=ellipse_color)\n",
    "        axes.add_artist(artist)\n",
    "\n",
    "    return None\n",
    "\n",
    "n_plots = 16\n",
    "fig, axs = plt.subplots(1, n_plots)\n",
    "for i, ax in enumerate(axs):\n",
    "    phase = i / n_plots\n",
    "\n",
    "    if 0.0 <= phase <= 0.5:\n",
    "        f = 2 * phase\n",
    "        direction = 'waxing'\n",
    "    elif 0.5 < phase <= 1.0:\n",
    "        f = 1.0 - 2.0 * (phase - 0.5)\n",
    "        direction = 'waning'\n",
    "\n",
    "    draw_moon(axs[i], f, direction)\n",
    "\n",
    "fig.set_facecolor(\"0.5\")\n",
    "plt.show()"
   ]
  },
  {
   "cell_type": "code",
   "execution_count": null,
   "metadata": {},
   "outputs": [],
   "source": [
    "days = [{\"f\": x['illumination'] / 100, \"direction\": x['phase'].split()[0].lower()} for x in ods]\n",
    "\n",
    "n_plots = len(days)\n",
    "fig, axs = plt.subplots(1, n_plots, figsize=(12, 1))\n",
    "for i, ax in enumerate(axs):\n",
    "    draw_moon(axs[i], **days[i])\n",
    "\n",
    "fig.set_facecolor(\"0.5\")\n",
    "plt.show()"
   ]
  },
  {
   "cell_type": "markdown",
   "metadata": {},
   "source": [
    "## Plot all the dates in a year"
   ]
  },
  {
   "cell_type": "code",
   "execution_count": null,
   "metadata": {},
   "outputs": [],
   "source": [
    "data = get_oneday_year()\n",
    "data[0]"
   ]
  },
  {
   "cell_type": "code",
   "execution_count": null,
   "metadata": {},
   "outputs": [],
   "source": [
    "\n",
    "n_months = 12\n",
    "fig, axs = plt.subplots(n_months, 31, figsize=(31, n_months))\n",
    "for i in range(n_months):\n",
    "    month = i + 1\n",
    "    days = [{\"f\": x['illumination'] / 100, \"direction\": x['phase'].split()[0].lower()} for x in data if x[\"date\"].month == month]\n",
    "    for j in range(len(days)):\n",
    "        draw_moon(axs[i, j], **days[j])\n",
    "\n",
    "    if len(days) < 31:\n",
    "        for j in range(len(days), 31):\n",
    "            axs[i, j].set_visible(False)\n",
    "\n",
    "fig.set_facecolor(\"0.5\")\n",
    "plt.show()"
   ]
  }
 ],
 "metadata": {
  "kernelspec": {
   "display_name": ".venv",
   "language": "python",
   "name": "python3"
  },
  "language_info": {
   "codemirror_mode": {
    "name": "ipython",
    "version": 3
   },
   "file_extension": ".py",
   "mimetype": "text/x-python",
   "name": "python",
   "nbconvert_exporter": "python",
   "pygments_lexer": "ipython3",
   "version": "3.10.13"
  }
 },
 "nbformat": 4,
 "nbformat_minor": 2
}
